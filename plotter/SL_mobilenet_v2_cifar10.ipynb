{
 "cells": [
  {
   "cell_type": "code",
   "execution_count": null,
   "metadata": {},
   "outputs": [
    {
     "ename": "",
     "evalue": "",
     "output_type": "error",
     "traceback": [
      "\u001b[1;31mRunning cells with 'openpcdet (Python 3.8.19)' requires the ipykernel package.\n",
      "\u001b[1;31mRun the following command to install 'ipykernel' into the Python environment. \n",
      "\u001b[1;31mCommand: 'conda install -n openpcdet ipykernel --update-deps --force-reinstall'"
     ]
    }
   ],
   "source": [
    "import csv\n",
    "import copy\n",
    "import os\n",
    "import numpy as np\n",
    "import matplotlib.pyplot as plt"
   ]
  },
  {
   "cell_type": "code",
   "execution_count": null,
   "metadata": {},
   "outputs": [
    {
     "ename": "",
     "evalue": "",
     "output_type": "error",
     "traceback": [
      "\u001b[1;31mRunning cells with 'openpcdet (Python 3.8.19)' requires the ipykernel package.\n",
      "\u001b[1;31mRun the following command to install 'ipykernel' into the Python environment. \n",
      "\u001b[1;31mCommand: 'conda install -n openpcdet ipykernel --update-deps --force-reinstall'"
     ]
    }
   ],
   "source": [
    "import torch\n",
    "\n",
    "# float32のバイト数を出力\n",
    "float32_size = torch.tensor(0.0, dtype=torch.float32).element_size()\n",
    "print(f\"float32 size: {float32_size} bytes\")\n",
    "\n",
    "# float64（double）のバイト数を出力\n",
    "float64_size = torch.tensor(0.0, dtype=torch.float64).element_size()\n",
    "print(f\"float64 size: {float64_size} bytes\")\n",
    "\n",
    "float_size = torch.tensor(0.0, dtype=torch.float).element_size()\n",
    "print(f\"float_t size: {float_size} bytes\")"
   ]
  },
  {
   "cell_type": "code",
   "execution_count": null,
   "metadata": {},
   "outputs": [
    {
     "ename": "",
     "evalue": "",
     "output_type": "error",
     "traceback": [
      "\u001b[1;31mRunning cells with 'openpcdet (Python 3.8.19)' requires the ipykernel package.\n",
      "\u001b[1;31mRun the following command to install 'ipykernel' into the Python environment. \n",
      "\u001b[1;31mCommand: 'conda install -n openpcdet ipykernel --update-deps --force-reinstall'"
     ]
    }
   ],
   "source": [
    "# プロットする手法・モデル・データセットを指定\n",
    "dir_path = './../results/SL/mobilenet_v2_cifar10/'\n",
    "\n",
    "date_dir_list = ['2024-07-31/', '2024-08-01/']\n",
    "data_dir_list = ['accuracy', 'loss']\n",
    "batch_type_list = ['B128', 'B64']\n",
    "# data_type_list = ['IID', 'N-IID-ClassSep', 'N-IID-Diri-06', 'N-IID-Diri-03', 'N-IID-Diri-01', 'N-IID-Diri-005']\n",
    "data_type_list = ['IID', 'N-IID-ClassSep', 'N-IID-Diri-03', 'N-IID-Diri-01', 'N-IID-Diri-005']\n",
    "epoch_type_list = ['R25_E10', 'R50_E5']"
   ]
  },
  {
   "cell_type": "code",
   "execution_count": null,
   "metadata": {},
   "outputs": [
    {
     "ename": "",
     "evalue": "",
     "output_type": "error",
     "traceback": [
      "\u001b[1;31mRunning cells with 'openpcdet (Python 3.8.19)' requires the ipykernel package.\n",
      "\u001b[1;31mRun the following command to install 'ipykernel' into the Python environment. \n",
      "\u001b[1;31mCommand: 'conda install -n openpcdet ipykernel --update-deps --force-reinstall'"
     ]
    }
   ],
   "source": [
    "def make_template():\n",
    "    data_dir_dict = {}\n",
    "    batch_dict = {}\n",
    "    epoch_dict = {}\n",
    "    data_type_dict = {}\n",
    "    epoch_data_dict = {'accuracy': [], 'loss': []}\n",
    "    accuracy_dict = {'average': [], 'client1': [], 'client2': []}\n",
    "    data_dict = {'epoch': epoch_data_dict, 'accuracy': accuracy_dict, 'loss': []}\n",
    "\n",
    "    # for data_dir in data_dir_list:\n",
    "    #     data_dir_dict[data_dir] = data_dict\n",
    "    for data_type in data_type_list:\n",
    "        data_type_dict[data_type] = data_dict\n",
    "    for epoch_type in epoch_type_list:\n",
    "        epoch_dict[epoch_type] = copy.deepcopy(data_type_dict)\n",
    "    for batch_type in batch_type_list:\n",
    "        batch_dict[batch_type] = copy.deepcopy(epoch_dict)\n",
    "\n",
    "    return batch_dict"
   ]
  },
  {
   "cell_type": "code",
   "execution_count": null,
   "metadata": {},
   "outputs": [
    {
     "ename": "",
     "evalue": "",
     "output_type": "error",
     "traceback": [
      "\u001b[1;31mRunning cells with 'openpcdet (Python 3.8.19)' requires the ipykernel package.\n",
      "\u001b[1;31mRun the following command to install 'ipykernel' into the Python environment. \n",
      "\u001b[1;31mCommand: 'conda install -n openpcdet ipykernel --update-deps --force-reinstall'"
     ]
    }
   ],
   "source": [
    "def input_to_dict(batch_dict):\n",
    "\n",
    "    for batch_type, epoch_dict in batch_dict.items():\n",
    "\n",
    "        for epoch_type, data_type_dict in epoch_dict.items():\n",
    "\n",
    "            for data_type, _ in data_type_dict.items():\n",
    "\n",
    "                epoch_data_dict = {'accuracy': [], 'loss': []}\n",
    "                accuracy_dict = {'average': [], 'client1': [], 'client2': []}\n",
    "                data_dict = {'epoch': epoch_data_dict, 'accuracy': accuracy_dict, 'loss': []}\n",
    "\n",
    "                for date_dir in date_dir_list:\n",
    "                    for data_name in data_dir_list:\n",
    "                        \n",
    "\n",
    "                        file_path = dir_path + date_dir + data_name + '/' + data_type + '_' + batch_type + '_' + epoch_type + '_' + data_name + '.csv'\n",
    "                        if os.path.isfile(file_path) == True:\n",
    "                            with open(file_path) as f:\n",
    "                                csv_reader = csv.reader(f, delimiter=',')\n",
    "                                for i, row in enumerate(csv_reader):\n",
    "                                    if i == 0:\n",
    "                                        continue\n",
    "                                    else:\n",
    "                                        data_dict['epoch'][data_name].append(float(row[0]))\n",
    "                                        if data_name == 'accuracy':\n",
    "                                            data_dict[data_name]['average'].append(float(row[1]))\n",
    "                                            data_dict[data_name]['client1'].append(float(row[2]))\n",
    "                                            data_dict[data_name]['client2'].append(float(row[3]))\n",
    "                                        elif data_name == 'loss':\n",
    "                                            data_dict[data_name].append(float(row[1]))\n",
    "                            if data_name == 'accuracy':\n",
    "                                if len(data_dict['epoch'][data_name]) == 25:\n",
    "                                    data_dict['epoch'][data_name] = [ x * 10 for x in data_dict['epoch'][data_name]]\n",
    "                                elif len(data_dict['epoch'][data_name]) == 50:\n",
    "                                    data_dict['epoch'][data_name] = [ x * 5 for x in data_dict['epoch'][data_name]]\n",
    "                            elif data_name == 'loss':\n",
    "                                if len(data_dict[data_name]) == 500:\n",
    "                                    data_dict[data_name] = data_dict[data_name][0::2]\n",
    "                                elif len(data_dict[data_name]) == 1000:\n",
    "                                    data_dict[data_name] = data_dict[data_name][0::4]\n",
    "                                data_dict['epoch'][data_name] = np.arange(1, len(data_dict[data_name])+1)\n",
    "                    batch_dict[batch_type][epoch_type][data_type] = data_dict\n",
    "\n",
    "    return batch_dict\n",
    "                            "
   ]
  },
  {
   "cell_type": "code",
   "execution_count": null,
   "metadata": {},
   "outputs": [
    {
     "ename": "",
     "evalue": "",
     "output_type": "error",
     "traceback": [
      "\u001b[1;31mRunning cells with 'openpcdet (Python 3.8.19)' requires the ipykernel package.\n",
      "\u001b[1;31mRun the following command to install 'ipykernel' into the Python environment. \n",
      "\u001b[1;31mCommand: 'conda install -n openpcdet ipykernel --update-deps --force-reinstall'"
     ]
    }
   ],
   "source": [
    "batch_dict = make_template()\n",
    "batch_dict = input_to_dict(batch_dict)"
   ]
  },
  {
   "cell_type": "code",
   "execution_count": null,
   "metadata": {},
   "outputs": [
    {
     "ename": "",
     "evalue": "",
     "output_type": "error",
     "traceback": [
      "\u001b[1;31mRunning cells with 'openpcdet (Python 3.8.19)' requires the ipykernel package.\n",
      "\u001b[1;31mRun the following command to install 'ipykernel' into the Python environment. \n",
      "\u001b[1;31mCommand: 'conda install -n openpcdet ipykernel --update-deps --force-reinstall'"
     ]
    }
   ],
   "source": [
    "pattern = len(batch_type_list) * len(epoch_type_list)\n",
    "fig, axes = plt.subplots(1, pattern, figsize=(20, 4))\n",
    "fig.subplots_adjust(hspace=0.4, wspace=0.4, top=0.85)\n",
    "\n",
    "plot_accuracy_type = 'average'\n",
    "\n",
    "for i, batch_type in enumerate(batch_type_list):\n",
    "    for j, epoch_type in enumerate(epoch_type_list):\n",
    "\n",
    "        ax = axes[j+i*2]\n",
    "        for data_type in data_type_list:\n",
    "            if len(batch_dict[batch_type][epoch_type][data_type]['loss']) != 0:\n",
    "                epoch = batch_dict[batch_type][epoch_type][data_type]['epoch']['accuracy']\n",
    "                accuracy = batch_dict[batch_type][epoch_type][data_type]['accuracy'][plot_accuracy_type]\n",
    "                ax.plot(epoch, accuracy, label=data_type)\n",
    "\n",
    "        ax.set_title(batch_type + '_' + epoch_type)\n",
    "        ax.set_xlabel('epochs')\n",
    "        ax.set_ylabel('accuracy')\n",
    "        ax.set_ylim((0, 80))\n",
    "        ax.set_xlim((0, 260))\n",
    "        ax.grid(True)\n",
    "        ax.legend()\n",
    "\n",
    "fig.suptitle('Comparing data types', fontsize=16)\n",
    "plt.show()\n",
    "            "
   ]
  },
  {
   "cell_type": "code",
   "execution_count": null,
   "metadata": {},
   "outputs": [
    {
     "ename": "",
     "evalue": "",
     "output_type": "error",
     "traceback": [
      "\u001b[1;31mRunning cells with 'openpcdet (Python 3.8.19)' requires the ipykernel package.\n",
      "\u001b[1;31mRun the following command to install 'ipykernel' into the Python environment. \n",
      "\u001b[1;31mCommand: 'conda install -n openpcdet ipykernel --update-deps --force-reinstall'"
     ]
    }
   ],
   "source": [
    "pattern = len(batch_type_list) * len(epoch_type_list)\n",
    "fig, axes = plt.subplots(1, pattern, figsize=(20, 4))\n",
    "fig.subplots_adjust(hspace=0.4, wspace=0.4, top=0.85)\n",
    "\n",
    "\n",
    "for i, batch_type in enumerate(batch_type_list):\n",
    "    for j, epoch_type in enumerate(epoch_type_list):\n",
    "\n",
    "        ax = axes[j+i*2]\n",
    "        for data_type in data_type_list:\n",
    "            if len(batch_dict[batch_type][epoch_type][data_type]['loss']) != 0:\n",
    "                epoch = batch_dict[batch_type][epoch_type][data_type]['epoch']['loss']\n",
    "                loss = batch_dict[batch_type][epoch_type][data_type]['loss']\n",
    "                ax.plot(epoch, loss, label=data_type)\n",
    "\n",
    "        ax.set_title(batch_type + '_' + epoch_type)\n",
    "        ax.set_xlabel('epochs')\n",
    "        ax.set_ylabel('loss')\n",
    "        ax.set_ylim((0, 2.5))\n",
    "        ax.set_xlim((0, 260))\n",
    "        ax.grid(True)\n",
    "        ax.legend()\n",
    "\n",
    "fig.suptitle('Comparing data types', fontsize=16)\n",
    "plt.show()\n",
    "            "
   ]
  },
  {
   "cell_type": "code",
   "execution_count": null,
   "metadata": {},
   "outputs": [
    {
     "ename": "",
     "evalue": "",
     "output_type": "error",
     "traceback": [
      "\u001b[1;31mRunning cells with 'openpcdet (Python 3.8.19)' requires the ipykernel package.\n",
      "\u001b[1;31mRun the following command to install 'ipykernel' into the Python environment. \n",
      "\u001b[1;31mCommand: 'conda install -n openpcdet ipykernel --update-deps --force-reinstall'"
     ]
    }
   ],
   "source": [
    "pattern = len(data_type_list) * len(epoch_type_list)\n",
    "fig, axes = plt.subplots(2, 5, figsize=(30, 10))\n",
    "fig.subplots_adjust(hspace=0.4, wspace=0.4, top=0.85)\n",
    "\n",
    "plot_accuracy_type = 'average'\n",
    "\n",
    "for i, epoch_type in enumerate(epoch_type_list):\n",
    "    for j, data_type in enumerate(data_type_list):\n",
    "\n",
    "        ax = axes[i, j]\n",
    "        for batch_type in batch_type_list:\n",
    "            if len(batch_dict[batch_type][epoch_type][data_type]['loss']) != 0:\n",
    "                epoch = batch_dict[batch_type][epoch_type][data_type]['epoch']['accuracy']\n",
    "                accuracy = batch_dict[batch_type][epoch_type][data_type]['accuracy'][plot_accuracy_type]\n",
    "                ax.plot(epoch, accuracy, label=batch_type)\n",
    "\n",
    "        ax.set_title(epoch_type + '_' + data_type)\n",
    "        ax.set_xlabel('epochs')\n",
    "        ax.set_ylabel('accuracy')\n",
    "        ax.set_ylim((0, 80))\n",
    "        ax.set_xlim((0, 260))\n",
    "        ax.grid(True)\n",
    "        ax.legend()\n",
    "\n",
    "fig.suptitle('Comparing data types', fontsize=16)\n",
    "plt.show()\n",
    "            "
   ]
  },
  {
   "cell_type": "code",
   "execution_count": null,
   "metadata": {},
   "outputs": [
    {
     "ename": "",
     "evalue": "",
     "output_type": "error",
     "traceback": [
      "\u001b[1;31mRunning cells with 'openpcdet (Python 3.8.19)' requires the ipykernel package.\n",
      "\u001b[1;31mRun the following command to install 'ipykernel' into the Python environment. \n",
      "\u001b[1;31mCommand: 'conda install -n openpcdet ipykernel --update-deps --force-reinstall'"
     ]
    }
   ],
   "source": [
    "fig, axes = plt.subplots(2, 5, figsize=(30, 10))\n",
    "fig.subplots_adjust(hspace=0.4, wspace=0.4, top=0.85)\n",
    "\n",
    "for i, epoch_type in enumerate(epoch_type_list):\n",
    "    for j, data_type in enumerate(data_type_list):\n",
    "\n",
    "        ax = axes[i, j]\n",
    "        for batch_type in batch_type_list:\n",
    "            if len(batch_dict[batch_type][epoch_type][data_type]['loss']) != 0:\n",
    "                epoch = batch_dict[batch_type][epoch_type][data_type]['epoch']['loss']\n",
    "                loss = batch_dict[batch_type][epoch_type][data_type]['loss']\n",
    "                ax.plot(epoch, loss, label=batch_type)\n",
    "\n",
    "        ax.set_title(epoch_type + '_' + data_type)\n",
    "        ax.set_xlabel('epochs')\n",
    "        ax.set_ylabel('loss')\n",
    "        ax.set_ylim((0, 2.5))\n",
    "        ax.set_xlim((0, 260))\n",
    "        ax.grid(True)\n",
    "        ax.legend()\n",
    "\n",
    "fig.suptitle('Comparing data types', fontsize=16)\n",
    "plt.show()\n",
    "            "
   ]
  },
  {
   "cell_type": "code",
   "execution_count": null,
   "metadata": {},
   "outputs": [
    {
     "ename": "",
     "evalue": "",
     "output_type": "error",
     "traceback": [
      "\u001b[1;31mRunning cells with 'openpcdet (Python 3.8.19)' requires the ipykernel package.\n",
      "\u001b[1;31mRun the following command to install 'ipykernel' into the Python environment. \n",
      "\u001b[1;31mCommand: 'conda install -n openpcdet ipykernel --update-deps --force-reinstall'"
     ]
    }
   ],
   "source": []
  }
 ],
 "metadata": {
  "kernelspec": {
   "display_name": "base",
   "language": "python",
   "name": "python3"
  },
  "language_info": {
   "codemirror_mode": {
    "name": "ipython",
    "version": 3
   },
   "file_extension": ".py",
   "mimetype": "text/x-python",
   "name": "python",
   "nbconvert_exporter": "python",
   "pygments_lexer": "ipython3",
   "version": "3.11.5"
  }
 },
 "nbformat": 4,
 "nbformat_minor": 2
}
