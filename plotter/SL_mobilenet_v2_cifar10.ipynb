{
 "cells": [
  {
   "cell_type": "code",
   "execution_count": 1,
   "metadata": {},
   "outputs": [],
   "source": [
    "import csv\n",
    "import copy\n",
    "import os\n",
    "import numpy as np\n",
    "import matplotlib.pyplot as plt"
   ]
  },
  {
   "cell_type": "code",
   "execution_count": null,
   "metadata": {},
   "outputs": [],
   "source": [
    "# プロットする手法・モデル・データセットを指定\n",
    "dir_path = './../results/SL/mobilenet_v2_cifar10/'\n",
    "\n",
    "date_dir_list = ['2024-07-31/', '2024-08-01/']\n",
    "data_dir_list = ['accuracy', 'loss']\n",
    "batch_type_list = ['B128', 'B64']\n",
    "data_type_list = ['IID', 'N-IID-ClassSep', 'N-IID-Diri-06', 'N-IID-Diri-03', 'N-IID-Diri-01', 'N-IID-Diri-005']\n",
    "epoch_type_list = ['R25_E10', 'R50_E5']\n",
    "\n",
    "data_dir_dict = {}\n",
    "batch_dict = {}\n",
    "epoch_dict = {}\n",
    "data_type_dict = {}\n",
    "data_dict = {'epoch': [], 'accuracy': [], 'loss': []}\n",
    "\n",
    "for data_dir in data_dir_list:\n",
    "    data_dir_dict[data_dir] = None\n",
    "for data_type in data_type_list:\n",
    "    data_type_dict[data_type] = copy.deepcopy(data_dir_dict)\n",
    "for epoch_type in epoch_type_list:\n",
    "    epoch_dict[epoch_type] = copy.deepcopy(data_type_dict)\n",
    "for batch_type in batch_type_list:\n",
    "    batch_dict[batch_type] = copy.deepcopy(epoch_dict)"
   ]
  }
 ],
 "metadata": {
  "kernelspec": {
   "display_name": "base",
   "language": "python",
   "name": "python3"
  },
  "language_info": {
   "codemirror_mode": {
    "name": "ipython",
    "version": 3
   },
   "file_extension": ".py",
   "mimetype": "text/x-python",
   "name": "python",
   "nbconvert_exporter": "python",
   "pygments_lexer": "ipython3",
   "version": "3.11.5"
  }
 },
 "nbformat": 4,
 "nbformat_minor": 2
}
