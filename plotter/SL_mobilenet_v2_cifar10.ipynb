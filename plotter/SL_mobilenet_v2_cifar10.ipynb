{
 "cells": [
  {
   "cell_type": "code",
   "execution_count": 23,
   "metadata": {},
   "outputs": [],
   "source": [
    "import csv\n",
    "import copy\n",
    "import os\n",
    "import numpy as np\n",
    "import matplotlib.pyplot as plt"
   ]
  },
  {
   "cell_type": "code",
   "execution_count": 24,
   "metadata": {},
   "outputs": [],
   "source": [
    "# プロットする手法・モデル・データセットを指定\n",
    "dir_path = './../results/SL/mobilenet_v2_cifar10/'\n",
    "\n",
    "date_dir_list = ['2024-07-31/', '2024-08-01/']\n",
    "# data_dir_list = ['accuracy', 'loss']\n",
    "batch_type_list = ['B128', 'B64']\n",
    "# data_type_list = ['IID', 'N-IID-ClassSep', 'N-IID-Diri-06', 'N-IID-Diri-03', 'N-IID-Diri-01', 'N-IID-Diri-005']\n",
    "data_type_list = ['IID', 'N-IID-ClassSep', 'N-IID-Diri-03', 'N-IID-Diri-01', 'N-IID-Diri-005']\n",
    "epoch_type_list = ['R25_E10', 'R50_E5']"
   ]
  },
  {
   "cell_type": "code",
   "execution_count": 25,
   "metadata": {},
   "outputs": [],
   "source": [
    "def make_template():\n",
    "    data_dir_dict = {}\n",
    "    batch_dict = {}\n",
    "    epoch_dict = {}\n",
    "    data_type_dict = {}\n",
    "    accuracy_dict = {'average': [], 'client1': [], 'client2': []}\n",
    "    data_dict = {'epoch': [], 'accuracy': accuracy_dict, 'loss': []}\n",
    "\n",
    "    # for data_dir in data_dir_list:\n",
    "    #     data_dir_dict[data_dir] = data_dict\n",
    "    for data_type in data_type_list:\n",
    "        data_type_dict[data_type] = data_dict\n",
    "    for epoch_type in epoch_type_list:\n",
    "        epoch_dict[epoch_type] = copy.deepcopy(data_type_dict)\n",
    "    for batch_type in batch_type_list:\n",
    "        batch_dict[batch_type] = copy.deepcopy(epoch_dict)\n",
    "\n",
    "    return batch_dict"
   ]
  },
  {
   "cell_type": "code",
   "execution_count": null,
   "metadata": {},
   "outputs": [],
   "source": [
    "def input_to_dict(batch_dict):\n",
    "\n",
    "    for batch_type, epoch_dict in batch_dict.items():\n",
    "\n",
    "        for epoch_type, data_type_dict in epoch_dict.items():\n",
    "\n",
    "            for data_type, data_dict in data_type_dict.items():\n",
    "\n",
    "                for date_dir in date_dir_list:\n",
    "                    "
   ]
  },
  {
   "cell_type": "code",
   "execution_count": 26,
   "metadata": {},
   "outputs": [
    {
     "name": "stdout",
     "output_type": "stream",
     "text": [
      "{'B128': {'R25_E10': {'IID': {'epoch': [], 'accuracy': {'average': [], 'client1': [], 'client2': []}, 'loss': []}, 'N-IID-ClassSep': {'epoch': [], 'accuracy': {'average': [], 'client1': [], 'client2': []}, 'loss': []}, 'N-IID-Diri-03': {'epoch': [], 'accuracy': {'average': [], 'client1': [], 'client2': []}, 'loss': []}, 'N-IID-Diri-01': {'epoch': [], 'accuracy': {'average': [], 'client1': [], 'client2': []}, 'loss': []}, 'N-IID-Diri-005': {'epoch': [], 'accuracy': {'average': [], 'client1': [], 'client2': []}, 'loss': []}}, 'R50_E5': {'IID': {'epoch': [], 'accuracy': {'average': [], 'client1': [], 'client2': []}, 'loss': []}, 'N-IID-ClassSep': {'epoch': [], 'accuracy': {'average': [], 'client1': [], 'client2': []}, 'loss': []}, 'N-IID-Diri-03': {'epoch': [], 'accuracy': {'average': [], 'client1': [], 'client2': []}, 'loss': []}, 'N-IID-Diri-01': {'epoch': [], 'accuracy': {'average': [], 'client1': [], 'client2': []}, 'loss': []}, 'N-IID-Diri-005': {'epoch': [], 'accuracy': {'average': [], 'client1': [], 'client2': []}, 'loss': []}}}, 'B64': {'R25_E10': {'IID': {'epoch': [], 'accuracy': {'average': [], 'client1': [], 'client2': []}, 'loss': []}, 'N-IID-ClassSep': {'epoch': [], 'accuracy': {'average': [], 'client1': [], 'client2': []}, 'loss': []}, 'N-IID-Diri-03': {'epoch': [], 'accuracy': {'average': [], 'client1': [], 'client2': []}, 'loss': []}, 'N-IID-Diri-01': {'epoch': [], 'accuracy': {'average': [], 'client1': [], 'client2': []}, 'loss': []}, 'N-IID-Diri-005': {'epoch': [], 'accuracy': {'average': [], 'client1': [], 'client2': []}, 'loss': []}}, 'R50_E5': {'IID': {'epoch': [], 'accuracy': {'average': [], 'client1': [], 'client2': []}, 'loss': []}, 'N-IID-ClassSep': {'epoch': [], 'accuracy': {'average': [], 'client1': [], 'client2': []}, 'loss': []}, 'N-IID-Diri-03': {'epoch': [], 'accuracy': {'average': [], 'client1': [], 'client2': []}, 'loss': []}, 'N-IID-Diri-01': {'epoch': [], 'accuracy': {'average': [], 'client1': [], 'client2': []}, 'loss': []}, 'N-IID-Diri-005': {'epoch': [], 'accuracy': {'average': [], 'client1': [], 'client2': []}, 'loss': []}}}}\n"
     ]
    }
   ],
   "source": [
    "batch_dict = make_template()\n",
    "print(batch_dict)"
   ]
  }
 ],
 "metadata": {
  "kernelspec": {
   "display_name": "base",
   "language": "python",
   "name": "python3"
  },
  "language_info": {
   "codemirror_mode": {
    "name": "ipython",
    "version": 3
   },
   "file_extension": ".py",
   "mimetype": "text/x-python",
   "name": "python",
   "nbconvert_exporter": "python",
   "pygments_lexer": "ipython3",
   "version": "3.11.5"
  }
 },
 "nbformat": 4,
 "nbformat_minor": 2
}
